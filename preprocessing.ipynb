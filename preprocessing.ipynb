{
 "cells": [
  {
   "cell_type": "code",
   "execution_count": 1,
   "metadata": {},
   "outputs": [],
   "source": [
    "import pandas as pd\r\n",
    "import numpy as np"
   ]
  },
  {
   "cell_type": "code",
   "execution_count": 2,
   "metadata": {},
   "outputs": [
    {
     "name": "stdout",
     "output_type": "stream",
     "text": [
      "['id_solicitante', 'produto_solicitado', 'dia_vencimento', 'forma_envio_solicitacao', 'tipo_endereco', 'sexo', 'idade', 'estado_civil', 'qtde_dependentes', 'grau_instrucao', 'nacionalidade', 'estado_onde_nasceu', 'estado_onde_reside', 'possui_telefone_residencial', 'codigo_area_telefone_residencial', 'tipo_residencia', 'meses_na_residencia', 'possui_telefone_celular', 'possui_email', 'renda_mensal_regular', 'renda_extra', 'possui_cartao_visa', 'possui_cartao_mastercard', 'possui_cartao_diners', 'possui_cartao_amex', 'possui_outros_cartoes', 'qtde_contas_bancarias', 'qtde_contas_bancarias_especiais', 'valor_patrimonio_pessoal', 'possui_carro', 'vinculo_formal_com_empresa', 'estado_onde_trabalha', 'possui_telefone_trabalho', 'codigo_area_telefone_trabalho', 'meses_no_trabalho', 'profissao', 'ocupacao', 'profissao_companheiro', 'grau_instrucao_companheiro', 'local_onde_reside', 'local_onde_trabalha', 'inadimplente']\n"
     ]
    },
    {
     "data": {
      "text/html": "<div>\n<style scoped>\n    .dataframe tbody tr th:only-of-type {\n        vertical-align: middle;\n    }\n\n    .dataframe tbody tr th {\n        vertical-align: top;\n    }\n\n    .dataframe thead th {\n        text-align: right;\n    }\n</style>\n<table border=\"1\" class=\"dataframe\">\n  <thead>\n    <tr style=\"text-align: right;\">\n      <th></th>\n      <th>id_solicitante</th>\n      <th>produto_solicitado</th>\n      <th>dia_vencimento</th>\n      <th>forma_envio_solicitacao</th>\n      <th>tipo_endereco</th>\n      <th>sexo</th>\n      <th>idade</th>\n      <th>estado_civil</th>\n      <th>qtde_dependentes</th>\n      <th>grau_instrucao</th>\n      <th>...</th>\n      <th>possui_telefone_trabalho</th>\n      <th>codigo_area_telefone_trabalho</th>\n      <th>meses_no_trabalho</th>\n      <th>profissao</th>\n      <th>ocupacao</th>\n      <th>profissao_companheiro</th>\n      <th>grau_instrucao_companheiro</th>\n      <th>local_onde_reside</th>\n      <th>local_onde_trabalha</th>\n      <th>inadimplente</th>\n    </tr>\n  </thead>\n  <tbody>\n    <tr>\n      <th>0</th>\n      <td>1</td>\n      <td>1</td>\n      <td>10</td>\n      <td>presencial</td>\n      <td>1</td>\n      <td>M</td>\n      <td>85</td>\n      <td>2</td>\n      <td>0</td>\n      <td>0</td>\n      <td>...</td>\n      <td>N</td>\n      <td></td>\n      <td>0</td>\n      <td>9.0</td>\n      <td>1.0</td>\n      <td>0.0</td>\n      <td>0.0</td>\n      <td>600.0</td>\n      <td>600.0</td>\n      <td>0</td>\n    </tr>\n    <tr>\n      <th>1</th>\n      <td>2</td>\n      <td>1</td>\n      <td>25</td>\n      <td>internet</td>\n      <td>1</td>\n      <td>F</td>\n      <td>38</td>\n      <td>1</td>\n      <td>0</td>\n      <td>0</td>\n      <td>...</td>\n      <td>N</td>\n      <td></td>\n      <td>0</td>\n      <td>2.0</td>\n      <td>5.0</td>\n      <td>NaN</td>\n      <td>NaN</td>\n      <td>492.0</td>\n      <td>492.0</td>\n      <td>0</td>\n    </tr>\n    <tr>\n      <th>2</th>\n      <td>3</td>\n      <td>1</td>\n      <td>20</td>\n      <td>internet</td>\n      <td>1</td>\n      <td>F</td>\n      <td>37</td>\n      <td>2</td>\n      <td>0</td>\n      <td>0</td>\n      <td>...</td>\n      <td>N</td>\n      <td></td>\n      <td>0</td>\n      <td>NaN</td>\n      <td>NaN</td>\n      <td>NaN</td>\n      <td>NaN</td>\n      <td>450.0</td>\n      <td>450.0</td>\n      <td>1</td>\n    </tr>\n    <tr>\n      <th>3</th>\n      <td>4</td>\n      <td>1</td>\n      <td>20</td>\n      <td>internet</td>\n      <td>1</td>\n      <td>M</td>\n      <td>37</td>\n      <td>1</td>\n      <td>1</td>\n      <td>0</td>\n      <td>...</td>\n      <td>Y</td>\n      <td>54</td>\n      <td>0</td>\n      <td>9.0</td>\n      <td>2.0</td>\n      <td>NaN</td>\n      <td>NaN</td>\n      <td>932.0</td>\n      <td>932.0</td>\n      <td>1</td>\n    </tr>\n    <tr>\n      <th>4</th>\n      <td>5</td>\n      <td>7</td>\n      <td>1</td>\n      <td>internet</td>\n      <td>1</td>\n      <td>F</td>\n      <td>51</td>\n      <td>1</td>\n      <td>3</td>\n      <td>0</td>\n      <td>...</td>\n      <td>N</td>\n      <td></td>\n      <td>0</td>\n      <td>9.0</td>\n      <td>5.0</td>\n      <td>NaN</td>\n      <td>NaN</td>\n      <td>440.0</td>\n      <td>440.0</td>\n      <td>1</td>\n    </tr>\n  </tbody>\n</table>\n<p>5 rows × 42 columns</p>\n</div>",
      "text/plain": "   id_solicitante  produto_solicitado  dia_vencimento forma_envio_solicitacao  \\\n0               1                   1              10              presencial   \n1               2                   1              25                internet   \n2               3                   1              20                internet   \n3               4                   1              20                internet   \n4               5                   7               1                internet   \n\n   tipo_endereco sexo  idade  estado_civil  qtde_dependentes  grau_instrucao  \\\n0              1    M     85             2                 0               0   \n1              1    F     38             1                 0               0   \n2              1    F     37             2                 0               0   \n3              1    M     37             1                 1               0   \n4              1    F     51             1                 3               0   \n\n   ...  possui_telefone_trabalho codigo_area_telefone_trabalho  \\\n0  ...                         N                                 \n1  ...                         N                                 \n2  ...                         N                                 \n3  ...                         Y                            54   \n4  ...                         N                                 \n\n  meses_no_trabalho profissao ocupacao  profissao_companheiro  \\\n0                 0       9.0      1.0                    0.0   \n1                 0       2.0      5.0                    NaN   \n2                 0       NaN      NaN                    NaN   \n3                 0       9.0      2.0                    NaN   \n4                 0       9.0      5.0                    NaN   \n\n   grau_instrucao_companheiro local_onde_reside  local_onde_trabalha  \\\n0                         0.0             600.0                600.0   \n1                         NaN             492.0                492.0   \n2                         NaN             450.0                450.0   \n3                         NaN             932.0                932.0   \n4                         NaN             440.0                440.0   \n\n   inadimplente  \n0             0  \n1             0  \n2             1  \n3             1  \n4             1  \n\n[5 rows x 42 columns]"
     },
     "execution_count": 2,
     "metadata": {},
     "output_type": "execute_result"
    }
   ],
   "source": [
    "df_train = pd.read_csv(\"data/conjunto_de_treinamento.csv\")\r\n",
    "df_test = pd.read_csv(\"data/conjunto_de_teste.csv\")\r\n",
    "print(list(df_train.columns))\r\n",
    "df_train.head()"
   ]
  },
  {
   "cell_type": "code",
   "execution_count": 4,
   "metadata": {},
   "outputs": [],
   "source": [
    "def treat_df(df, filename):\r\n",
    "    try:\r\n",
    "        df = df[[\"sexo\", \"forma_envio_solicitacao\", \"estado_onde_reside\", \"produto_solicitado\", \"dia_vencimento\", \"tipo_endereco\", \"idade\", \"estado_civil\", \"qtde_dependentes\", \"nacionalidade\", \"qtde_contas_bancarias\", \"renda_mensal_regular\", \"renda_extra\", \"possui_telefone_residencial\", \"possui_email\", \"possui_cartao_visa\", \"possui_cartao_mastercard\", \"possui_cartao_diners\", \"possui_cartao_amex\", \"possui_outros_cartoes\", \"possui_carro\", \"vinculo_formal_com_empresa\", \"meses_no_trabalho\", \"local_onde_reside\", \"tipo_residencia\", \"meses_na_residencia\", \"profissao\", \"ocupacao\", \"profissao_companheiro\", \"grau_instrucao_companheiro\", \"inadimplente\"]]\r\n",
    "    except:\r\n",
    "        df = df[[\"sexo\", \"forma_envio_solicitacao\", \"estado_onde_reside\", \"produto_solicitado\", \"dia_vencimento\", \"tipo_endereco\", \"idade\", \"estado_civil\", \"qtde_dependentes\", \"nacionalidade\", \"qtde_contas_bancarias\", \"renda_mensal_regular\", \"renda_extra\", \"possui_telefone_residencial\", \"possui_email\", \"possui_cartao_visa\", \"possui_cartao_mastercard\", \"possui_cartao_diners\", \"possui_cartao_amex\", \"possui_outros_cartoes\", \"possui_carro\", \"vinculo_formal_com_empresa\", \"meses_no_trabalho\", \"local_onde_reside\", \"tipo_residencia\", \"meses_na_residencia\", \"profissao\", \"ocupacao\", \"profissao_companheiro\", \"grau_instrucao_companheiro\"]]\r\n",
    "    df[\"sexo\"] = df[\"sexo\"].replace(\" \", \"N\")\r\n",
    "    df[\"possui_telefone_residencial\"] = df[\"possui_telefone_residencial\"].replace({\"Y\": 1, \"N\": 0})\r\n",
    "    df[\"vinculo_formal_com_empresa\"] = df[\"vinculo_formal_com_empresa\"].replace({\"Y\": 1, \"N\": 0})\r\n",
    "    df.to_csv(f\"data/{filename}.csv\", index=False)\r\n",
    "    return df"
   ]
  },
  {
   "cell_type": "code",
   "execution_count": 5,
   "metadata": {},
   "outputs": [
    {
     "name": "stderr",
     "output_type": "stream",
     "text": [
      "<ipython-input-4-a2afcf056e3b>:6: SettingWithCopyWarning: \n",
      "A value is trying to be set on a copy of a slice from a DataFrame.\n",
      "Try using .loc[row_indexer,col_indexer] = value instead\n",
      "\n",
      "See the caveats in the documentation: https://pandas.pydata.org/pandas-docs/stable/user_guide/indexing.html#returning-a-view-versus-a-copy\n",
      "  df[\"sexo\"] = df[\"sexo\"].replace(\" \", \"N\")\n",
      "<ipython-input-4-a2afcf056e3b>:7: SettingWithCopyWarning: \n",
      "A value is trying to be set on a copy of a slice from a DataFrame.\n",
      "Try using .loc[row_indexer,col_indexer] = value instead\n",
      "\n",
      "See the caveats in the documentation: https://pandas.pydata.org/pandas-docs/stable/user_guide/indexing.html#returning-a-view-versus-a-copy\n",
      "  df[\"possui_telefone_residencial\"] = df[\"possui_telefone_residencial\"].replace({\"Y\": 1, \"N\": 0})\n",
      "<ipython-input-4-a2afcf056e3b>:8: SettingWithCopyWarning: \n",
      "A value is trying to be set on a copy of a slice from a DataFrame.\n",
      "Try using .loc[row_indexer,col_indexer] = value instead\n",
      "\n",
      "See the caveats in the documentation: https://pandas.pydata.org/pandas-docs/stable/user_guide/indexing.html#returning-a-view-versus-a-copy\n",
      "  df[\"vinculo_formal_com_empresa\"] = df[\"vinculo_formal_com_empresa\"].replace({\"Y\": 1, \"N\": 0})\n"
     ]
    },
    {
     "data": {
      "text/html": "<div>\n<style scoped>\n    .dataframe tbody tr th:only-of-type {\n        vertical-align: middle;\n    }\n\n    .dataframe tbody tr th {\n        vertical-align: top;\n    }\n\n    .dataframe thead th {\n        text-align: right;\n    }\n</style>\n<table border=\"1\" class=\"dataframe\">\n  <thead>\n    <tr style=\"text-align: right;\">\n      <th></th>\n      <th>sexo</th>\n      <th>forma_envio_solicitacao</th>\n      <th>estado_onde_reside</th>\n      <th>produto_solicitado</th>\n      <th>dia_vencimento</th>\n      <th>tipo_endereco</th>\n      <th>idade</th>\n      <th>estado_civil</th>\n      <th>qtde_dependentes</th>\n      <th>nacionalidade</th>\n      <th>...</th>\n      <th>vinculo_formal_com_empresa</th>\n      <th>meses_no_trabalho</th>\n      <th>local_onde_reside</th>\n      <th>tipo_residencia</th>\n      <th>meses_na_residencia</th>\n      <th>profissao</th>\n      <th>ocupacao</th>\n      <th>profissao_companheiro</th>\n      <th>grau_instrucao_companheiro</th>\n      <th>inadimplente</th>\n    </tr>\n  </thead>\n  <tbody>\n    <tr>\n      <th>0</th>\n      <td>M</td>\n      <td>presencial</td>\n      <td>CE</td>\n      <td>1</td>\n      <td>10</td>\n      <td>1</td>\n      <td>85</td>\n      <td>2</td>\n      <td>0</td>\n      <td>1</td>\n      <td>...</td>\n      <td>0</td>\n      <td>0</td>\n      <td>600.0</td>\n      <td>1.0</td>\n      <td>12.0</td>\n      <td>9.0</td>\n      <td>1.0</td>\n      <td>0.0</td>\n      <td>0.0</td>\n      <td>0</td>\n    </tr>\n    <tr>\n      <th>1</th>\n      <td>F</td>\n      <td>internet</td>\n      <td>SE</td>\n      <td>1</td>\n      <td>25</td>\n      <td>1</td>\n      <td>38</td>\n      <td>1</td>\n      <td>0</td>\n      <td>1</td>\n      <td>...</td>\n      <td>0</td>\n      <td>0</td>\n      <td>492.0</td>\n      <td>1.0</td>\n      <td>5.0</td>\n      <td>2.0</td>\n      <td>5.0</td>\n      <td>NaN</td>\n      <td>NaN</td>\n      <td>0</td>\n    </tr>\n    <tr>\n      <th>2</th>\n      <td>F</td>\n      <td>internet</td>\n      <td>BA</td>\n      <td>1</td>\n      <td>20</td>\n      <td>1</td>\n      <td>37</td>\n      <td>2</td>\n      <td>0</td>\n      <td>1</td>\n      <td>...</td>\n      <td>0</td>\n      <td>0</td>\n      <td>450.0</td>\n      <td>5.0</td>\n      <td>1.0</td>\n      <td>NaN</td>\n      <td>NaN</td>\n      <td>NaN</td>\n      <td>NaN</td>\n      <td>1</td>\n    </tr>\n    <tr>\n      <th>3</th>\n      <td>M</td>\n      <td>internet</td>\n      <td>RS</td>\n      <td>1</td>\n      <td>20</td>\n      <td>1</td>\n      <td>37</td>\n      <td>1</td>\n      <td>1</td>\n      <td>1</td>\n      <td>...</td>\n      <td>1</td>\n      <td>0</td>\n      <td>932.0</td>\n      <td>1.0</td>\n      <td>1.0</td>\n      <td>9.0</td>\n      <td>2.0</td>\n      <td>NaN</td>\n      <td>NaN</td>\n      <td>1</td>\n    </tr>\n    <tr>\n      <th>4</th>\n      <td>F</td>\n      <td>internet</td>\n      <td>BA</td>\n      <td>7</td>\n      <td>1</td>\n      <td>1</td>\n      <td>51</td>\n      <td>1</td>\n      <td>3</td>\n      <td>1</td>\n      <td>...</td>\n      <td>1</td>\n      <td>0</td>\n      <td>440.0</td>\n      <td>0.0</td>\n      <td>1.0</td>\n      <td>9.0</td>\n      <td>5.0</td>\n      <td>NaN</td>\n      <td>NaN</td>\n      <td>1</td>\n    </tr>\n    <tr>\n      <th>...</th>\n      <td>...</td>\n      <td>...</td>\n      <td>...</td>\n      <td>...</td>\n      <td>...</td>\n      <td>...</td>\n      <td>...</td>\n      <td>...</td>\n      <td>...</td>\n      <td>...</td>\n      <td>...</td>\n      <td>...</td>\n      <td>...</td>\n      <td>...</td>\n      <td>...</td>\n      <td>...</td>\n      <td>...</td>\n      <td>...</td>\n      <td>...</td>\n      <td>...</td>\n      <td>...</td>\n    </tr>\n    <tr>\n      <th>19995</th>\n      <td>M</td>\n      <td>presencial</td>\n      <td>MG</td>\n      <td>1</td>\n      <td>10</td>\n      <td>1</td>\n      <td>27</td>\n      <td>2</td>\n      <td>0</td>\n      <td>1</td>\n      <td>...</td>\n      <td>1</td>\n      <td>0</td>\n      <td>308.0</td>\n      <td>2.0</td>\n      <td>0.0</td>\n      <td>9.0</td>\n      <td>1.0</td>\n      <td>0.0</td>\n      <td>0.0</td>\n      <td>0</td>\n    </tr>\n    <tr>\n      <th>19996</th>\n      <td>F</td>\n      <td>presencial</td>\n      <td>CE</td>\n      <td>1</td>\n      <td>20</td>\n      <td>1</td>\n      <td>26</td>\n      <td>2</td>\n      <td>1</td>\n      <td>1</td>\n      <td>...</td>\n      <td>1</td>\n      <td>0</td>\n      <td>639.0</td>\n      <td>1.0</td>\n      <td>3.0</td>\n      <td>9.0</td>\n      <td>2.0</td>\n      <td>0.0</td>\n      <td>0.0</td>\n      <td>0</td>\n    </tr>\n    <tr>\n      <th>19997</th>\n      <td>F</td>\n      <td>internet</td>\n      <td>BA</td>\n      <td>1</td>\n      <td>10</td>\n      <td>1</td>\n      <td>63</td>\n      <td>2</td>\n      <td>0</td>\n      <td>1</td>\n      <td>...</td>\n      <td>0</td>\n      <td>0</td>\n      <td>486.0</td>\n      <td>5.0</td>\n      <td>25.0</td>\n      <td>9.0</td>\n      <td>1.0</td>\n      <td>NaN</td>\n      <td>NaN</td>\n      <td>0</td>\n    </tr>\n    <tr>\n      <th>19998</th>\n      <td>F</td>\n      <td>internet</td>\n      <td>RN</td>\n      <td>1</td>\n      <td>5</td>\n      <td>1</td>\n      <td>84</td>\n      <td>1</td>\n      <td>0</td>\n      <td>1</td>\n      <td>...</td>\n      <td>0</td>\n      <td>0</td>\n      <td>590.0</td>\n      <td>1.0</td>\n      <td>30.0</td>\n      <td>NaN</td>\n      <td>NaN</td>\n      <td>NaN</td>\n      <td>NaN</td>\n      <td>0</td>\n    </tr>\n    <tr>\n      <th>19999</th>\n      <td>F</td>\n      <td>presencial</td>\n      <td>SP</td>\n      <td>2</td>\n      <td>20</td>\n      <td>1</td>\n      <td>53</td>\n      <td>1</td>\n      <td>0</td>\n      <td>1</td>\n      <td>...</td>\n      <td>0</td>\n      <td>0</td>\n      <td>132.0</td>\n      <td>1.0</td>\n      <td>11.0</td>\n      <td>9.0</td>\n      <td>5.0</td>\n      <td>0.0</td>\n      <td>0.0</td>\n      <td>0</td>\n    </tr>\n  </tbody>\n</table>\n<p>20000 rows × 31 columns</p>\n</div>",
      "text/plain": "      sexo forma_envio_solicitacao estado_onde_reside  produto_solicitado  \\\n0        M              presencial                 CE                   1   \n1        F                internet                 SE                   1   \n2        F                internet                 BA                   1   \n3        M                internet                 RS                   1   \n4        F                internet                 BA                   7   \n...    ...                     ...                ...                 ...   \n19995    M              presencial                 MG                   1   \n19996    F              presencial                 CE                   1   \n19997    F                internet                 BA                   1   \n19998    F                internet                 RN                   1   \n19999    F              presencial                 SP                   2   \n\n       dia_vencimento  tipo_endereco  idade  estado_civil  qtde_dependentes  \\\n0                  10              1     85             2                 0   \n1                  25              1     38             1                 0   \n2                  20              1     37             2                 0   \n3                  20              1     37             1                 1   \n4                   1              1     51             1                 3   \n...               ...            ...    ...           ...               ...   \n19995              10              1     27             2                 0   \n19996              20              1     26             2                 1   \n19997              10              1     63             2                 0   \n19998               5              1     84             1                 0   \n19999              20              1     53             1                 0   \n\n       nacionalidade  ...  vinculo_formal_com_empresa  meses_no_trabalho  \\\n0                  1  ...                           0                  0   \n1                  1  ...                           0                  0   \n2                  1  ...                           0                  0   \n3                  1  ...                           1                  0   \n4                  1  ...                           1                  0   \n...              ...  ...                         ...                ...   \n19995              1  ...                           1                  0   \n19996              1  ...                           1                  0   \n19997              1  ...                           0                  0   \n19998              1  ...                           0                  0   \n19999              1  ...                           0                  0   \n\n       local_onde_reside  tipo_residencia  meses_na_residencia  profissao  \\\n0                  600.0              1.0                 12.0        9.0   \n1                  492.0              1.0                  5.0        2.0   \n2                  450.0              5.0                  1.0        NaN   \n3                  932.0              1.0                  1.0        9.0   \n4                  440.0              0.0                  1.0        9.0   \n...                  ...              ...                  ...        ...   \n19995              308.0              2.0                  0.0        9.0   \n19996              639.0              1.0                  3.0        9.0   \n19997              486.0              5.0                 25.0        9.0   \n19998              590.0              1.0                 30.0        NaN   \n19999              132.0              1.0                 11.0        9.0   \n\n       ocupacao  profissao_companheiro  grau_instrucao_companheiro  \\\n0           1.0                    0.0                         0.0   \n1           5.0                    NaN                         NaN   \n2           NaN                    NaN                         NaN   \n3           2.0                    NaN                         NaN   \n4           5.0                    NaN                         NaN   \n...         ...                    ...                         ...   \n19995       1.0                    0.0                         0.0   \n19996       2.0                    0.0                         0.0   \n19997       1.0                    NaN                         NaN   \n19998       NaN                    NaN                         NaN   \n19999       5.0                    0.0                         0.0   \n\n       inadimplente  \n0                 0  \n1                 0  \n2                 1  \n3                 1  \n4                 1  \n...             ...  \n19995             0  \n19996             0  \n19997             0  \n19998             0  \n19999             0  \n\n[20000 rows x 31 columns]"
     },
     "execution_count": 5,
     "metadata": {},
     "output_type": "execute_result"
    }
   ],
   "source": [
    "treat_df(df_train, \"train\")"
   ]
  },
  {
   "cell_type": "code",
   "execution_count": 6,
   "metadata": {},
   "outputs": [
    {
     "name": "stderr",
     "output_type": "stream",
     "text": [
      "<ipython-input-4-a2afcf056e3b>:6: SettingWithCopyWarning: \n",
      "A value is trying to be set on a copy of a slice from a DataFrame.\n",
      "Try using .loc[row_indexer,col_indexer] = value instead\n",
      "\n",
      "See the caveats in the documentation: https://pandas.pydata.org/pandas-docs/stable/user_guide/indexing.html#returning-a-view-versus-a-copy\n",
      "  df[\"sexo\"] = df[\"sexo\"].replace(\" \", \"N\")\n",
      "<ipython-input-4-a2afcf056e3b>:7: SettingWithCopyWarning: \n",
      "A value is trying to be set on a copy of a slice from a DataFrame.\n",
      "Try using .loc[row_indexer,col_indexer] = value instead\n",
      "\n",
      "See the caveats in the documentation: https://pandas.pydata.org/pandas-docs/stable/user_guide/indexing.html#returning-a-view-versus-a-copy\n",
      "  df[\"possui_telefone_residencial\"] = df[\"possui_telefone_residencial\"].replace({\"Y\": 1, \"N\": 0})\n",
      "<ipython-input-4-a2afcf056e3b>:8: SettingWithCopyWarning: \n",
      "A value is trying to be set on a copy of a slice from a DataFrame.\n",
      "Try using .loc[row_indexer,col_indexer] = value instead\n",
      "\n",
      "See the caveats in the documentation: https://pandas.pydata.org/pandas-docs/stable/user_guide/indexing.html#returning-a-view-versus-a-copy\n",
      "  df[\"vinculo_formal_com_empresa\"] = df[\"vinculo_formal_com_empresa\"].replace({\"Y\": 1, \"N\": 0})\n"
     ]
    },
    {
     "data": {
      "text/html": "<div>\n<style scoped>\n    .dataframe tbody tr th:only-of-type {\n        vertical-align: middle;\n    }\n\n    .dataframe tbody tr th {\n        vertical-align: top;\n    }\n\n    .dataframe thead th {\n        text-align: right;\n    }\n</style>\n<table border=\"1\" class=\"dataframe\">\n  <thead>\n    <tr style=\"text-align: right;\">\n      <th></th>\n      <th>sexo</th>\n      <th>forma_envio_solicitacao</th>\n      <th>estado_onde_reside</th>\n      <th>produto_solicitado</th>\n      <th>dia_vencimento</th>\n      <th>tipo_endereco</th>\n      <th>idade</th>\n      <th>estado_civil</th>\n      <th>qtde_dependentes</th>\n      <th>nacionalidade</th>\n      <th>...</th>\n      <th>possui_carro</th>\n      <th>vinculo_formal_com_empresa</th>\n      <th>meses_no_trabalho</th>\n      <th>local_onde_reside</th>\n      <th>tipo_residencia</th>\n      <th>meses_na_residencia</th>\n      <th>profissao</th>\n      <th>ocupacao</th>\n      <th>profissao_companheiro</th>\n      <th>grau_instrucao_companheiro</th>\n    </tr>\n  </thead>\n  <tbody>\n    <tr>\n      <th>0</th>\n      <td>M</td>\n      <td>presencial</td>\n      <td>MG</td>\n      <td>1</td>\n      <td>25</td>\n      <td>1</td>\n      <td>37</td>\n      <td>2</td>\n      <td>0</td>\n      <td>1</td>\n      <td>...</td>\n      <td>1</td>\n      <td>0</td>\n      <td>0</td>\n      <td>384.0</td>\n      <td>1.0</td>\n      <td>5.0</td>\n      <td>0.0</td>\n      <td>0.0</td>\n      <td>0.0</td>\n      <td>0.0</td>\n    </tr>\n    <tr>\n      <th>1</th>\n      <td>F</td>\n      <td>internet</td>\n      <td>RJ</td>\n      <td>1</td>\n      <td>10</td>\n      <td>1</td>\n      <td>31</td>\n      <td>2</td>\n      <td>0</td>\n      <td>1</td>\n      <td>...</td>\n      <td>0</td>\n      <td>1</td>\n      <td>0</td>\n      <td>275.0</td>\n      <td>1.0</td>\n      <td>1.0</td>\n      <td>9.0</td>\n      <td>5.0</td>\n      <td>NaN</td>\n      <td>NaN</td>\n    </tr>\n    <tr>\n      <th>2</th>\n      <td>F</td>\n      <td>internet</td>\n      <td>RS</td>\n      <td>1</td>\n      <td>10</td>\n      <td>1</td>\n      <td>18</td>\n      <td>2</td>\n      <td>0</td>\n      <td>1</td>\n      <td>...</td>\n      <td>0</td>\n      <td>1</td>\n      <td>0</td>\n      <td>948.0</td>\n      <td>1.0</td>\n      <td>12.0</td>\n      <td>9.0</td>\n      <td>2.0</td>\n      <td>NaN</td>\n      <td>NaN</td>\n    </tr>\n    <tr>\n      <th>3</th>\n      <td>F</td>\n      <td>presencial</td>\n      <td>PB</td>\n      <td>1</td>\n      <td>10</td>\n      <td>1</td>\n      <td>55</td>\n      <td>2</td>\n      <td>0</td>\n      <td>1</td>\n      <td>...</td>\n      <td>1</td>\n      <td>0</td>\n      <td>0</td>\n      <td>581.0</td>\n      <td>1.0</td>\n      <td>25.0</td>\n      <td>9.0</td>\n      <td>1.0</td>\n      <td>0.0</td>\n      <td>0.0</td>\n    </tr>\n    <tr>\n      <th>4</th>\n      <td>F</td>\n      <td>presencial</td>\n      <td>AL</td>\n      <td>1</td>\n      <td>10</td>\n      <td>1</td>\n      <td>55</td>\n      <td>1</td>\n      <td>0</td>\n      <td>1</td>\n      <td>...</td>\n      <td>1</td>\n      <td>0</td>\n      <td>0</td>\n      <td>573.0</td>\n      <td>1.0</td>\n      <td>11.0</td>\n      <td>0.0</td>\n      <td>1.0</td>\n      <td>0.0</td>\n      <td>0.0</td>\n    </tr>\n    <tr>\n      <th>...</th>\n      <td>...</td>\n      <td>...</td>\n      <td>...</td>\n      <td>...</td>\n      <td>...</td>\n      <td>...</td>\n      <td>...</td>\n      <td>...</td>\n      <td>...</td>\n      <td>...</td>\n      <td>...</td>\n      <td>...</td>\n      <td>...</td>\n      <td>...</td>\n      <td>...</td>\n      <td>...</td>\n      <td>...</td>\n      <td>...</td>\n      <td>...</td>\n      <td>...</td>\n      <td>...</td>\n    </tr>\n    <tr>\n      <th>4995</th>\n      <td>F</td>\n      <td>presencial</td>\n      <td>MA</td>\n      <td>1</td>\n      <td>10</td>\n      <td>1</td>\n      <td>49</td>\n      <td>2</td>\n      <td>1</td>\n      <td>1</td>\n      <td>...</td>\n      <td>1</td>\n      <td>0</td>\n      <td>0</td>\n      <td>652.0</td>\n      <td>1.0</td>\n      <td>8.0</td>\n      <td>9.0</td>\n      <td>1.0</td>\n      <td>0.0</td>\n      <td>0.0</td>\n    </tr>\n    <tr>\n      <th>4996</th>\n      <td>M</td>\n      <td>internet</td>\n      <td>PR</td>\n      <td>1</td>\n      <td>5</td>\n      <td>1</td>\n      <td>18</td>\n      <td>2</td>\n      <td>0</td>\n      <td>1</td>\n      <td>...</td>\n      <td>0</td>\n      <td>0</td>\n      <td>0</td>\n      <td>855.0</td>\n      <td>1.0</td>\n      <td>2.0</td>\n      <td>NaN</td>\n      <td>NaN</td>\n      <td>NaN</td>\n      <td>NaN</td>\n    </tr>\n    <tr>\n      <th>4997</th>\n      <td>F</td>\n      <td>presencial</td>\n      <td>MG</td>\n      <td>1</td>\n      <td>10</td>\n      <td>1</td>\n      <td>29</td>\n      <td>1</td>\n      <td>0</td>\n      <td>1</td>\n      <td>...</td>\n      <td>0</td>\n      <td>0</td>\n      <td>0</td>\n      <td>371.0</td>\n      <td>1.0</td>\n      <td>2.0</td>\n      <td>9.0</td>\n      <td>5.0</td>\n      <td>NaN</td>\n      <td>NaN</td>\n    </tr>\n    <tr>\n      <th>4998</th>\n      <td>F</td>\n      <td>internet</td>\n      <td>PA</td>\n      <td>1</td>\n      <td>25</td>\n      <td>1</td>\n      <td>31</td>\n      <td>2</td>\n      <td>2</td>\n      <td>1</td>\n      <td>...</td>\n      <td>0</td>\n      <td>1</td>\n      <td>0</td>\n      <td>670.0</td>\n      <td>5.0</td>\n      <td>10.0</td>\n      <td>NaN</td>\n      <td>NaN</td>\n      <td>NaN</td>\n      <td>NaN</td>\n    </tr>\n    <tr>\n      <th>4999</th>\n      <td>F</td>\n      <td>presencial</td>\n      <td>BA</td>\n      <td>1</td>\n      <td>25</td>\n      <td>1</td>\n      <td>54</td>\n      <td>1</td>\n      <td>0</td>\n      <td>1</td>\n      <td>...</td>\n      <td>1</td>\n      <td>1</td>\n      <td>0</td>\n      <td>402.0</td>\n      <td>1.0</td>\n      <td>14.0</td>\n      <td>9.0</td>\n      <td>5.0</td>\n      <td>0.0</td>\n      <td>0.0</td>\n    </tr>\n  </tbody>\n</table>\n<p>5000 rows × 30 columns</p>\n</div>",
      "text/plain": "     sexo forma_envio_solicitacao estado_onde_reside  produto_solicitado  \\\n0       M              presencial                 MG                   1   \n1       F                internet                 RJ                   1   \n2       F                internet                 RS                   1   \n3       F              presencial                 PB                   1   \n4       F              presencial                 AL                   1   \n...   ...                     ...                ...                 ...   \n4995    F              presencial                 MA                   1   \n4996    M                internet                 PR                   1   \n4997    F              presencial                 MG                   1   \n4998    F                internet                 PA                   1   \n4999    F              presencial                 BA                   1   \n\n      dia_vencimento  tipo_endereco  idade  estado_civil  qtde_dependentes  \\\n0                 25              1     37             2                 0   \n1                 10              1     31             2                 0   \n2                 10              1     18             2                 0   \n3                 10              1     55             2                 0   \n4                 10              1     55             1                 0   \n...              ...            ...    ...           ...               ...   \n4995              10              1     49             2                 1   \n4996               5              1     18             2                 0   \n4997              10              1     29             1                 0   \n4998              25              1     31             2                 2   \n4999              25              1     54             1                 0   \n\n      nacionalidade  ...  possui_carro  vinculo_formal_com_empresa  \\\n0                 1  ...             1                           0   \n1                 1  ...             0                           1   \n2                 1  ...             0                           1   \n3                 1  ...             1                           0   \n4                 1  ...             1                           0   \n...             ...  ...           ...                         ...   \n4995              1  ...             1                           0   \n4996              1  ...             0                           0   \n4997              1  ...             0                           0   \n4998              1  ...             0                           1   \n4999              1  ...             1                           1   \n\n      meses_no_trabalho  local_onde_reside  tipo_residencia  \\\n0                     0              384.0              1.0   \n1                     0              275.0              1.0   \n2                     0              948.0              1.0   \n3                     0              581.0              1.0   \n4                     0              573.0              1.0   \n...                 ...                ...              ...   \n4995                  0              652.0              1.0   \n4996                  0              855.0              1.0   \n4997                  0              371.0              1.0   \n4998                  0              670.0              5.0   \n4999                  0              402.0              1.0   \n\n      meses_na_residencia  profissao  ocupacao  profissao_companheiro  \\\n0                     5.0        0.0       0.0                    0.0   \n1                     1.0        9.0       5.0                    NaN   \n2                    12.0        9.0       2.0                    NaN   \n3                    25.0        9.0       1.0                    0.0   \n4                    11.0        0.0       1.0                    0.0   \n...                   ...        ...       ...                    ...   \n4995                  8.0        9.0       1.0                    0.0   \n4996                  2.0        NaN       NaN                    NaN   \n4997                  2.0        9.0       5.0                    NaN   \n4998                 10.0        NaN       NaN                    NaN   \n4999                 14.0        9.0       5.0                    0.0   \n\n      grau_instrucao_companheiro  \n0                            0.0  \n1                            NaN  \n2                            NaN  \n3                            0.0  \n4                            0.0  \n...                          ...  \n4995                         0.0  \n4996                         NaN  \n4997                         NaN  \n4998                         NaN  \n4999                         0.0  \n\n[5000 rows x 30 columns]"
     },
     "execution_count": 6,
     "metadata": {},
     "output_type": "execute_result"
    }
   ],
   "source": [
    "treat_df(df_test, \"test\")"
   ]
  },
  {
   "cell_type": "code",
   "execution_count": null,
   "metadata": {},
   "outputs": [],
   "source": [
    "df_train = df_train.replace(np.nan, -1)"
   ]
  },
  {
   "cell_type": "code",
   "execution_count": null,
   "metadata": {},
   "outputs": [],
   "source": [
    "print(\"Número de pessoas que trabalham em estado diferente do estado de residência:\", sum(list(df_train.loc[df_train[\"estado_onde_trabalha\"] != \" \"][[\"estado_onde_reside\", \"estado_onde_trabalha\"]].loc[df_train[\"estado_onde_trabalha\"] != df_train[\"estado_onde_reside\"]].value_counts())))"
   ]
  },
  {
   "cell_type": "code",
   "execution_count": null,
   "metadata": {},
   "outputs": [],
   "source": [
    "df_train = df_train[[\"produto_solicitado\", \"dia_vencimento\", \"forma_envio_solicitacao\", \"tipo_endereco\", \"sexo\", \"idade\", \"estado_civil\", \"qtde_dependentes\", \"grau_instrucao\", \"nacionalidade\", \"estado_onde_reside\", \"possui_telefone_residencial\", \"tipo_residencia\", \"meses_na_residencia\", \"possui_email\", \"renda_mensal_regular\", \"renda_extra\", \"possui_cartao_visa\", \"possui_cartao_mastercard\", \"possui_cartao_diners\", \"possui_cartao_amex\", \"possui_outros_cartoes\", \"qtde_contas_bancarias\", \"possui_carro\", \"vinculo_formal_com_empresa\", \"meses_no_trabalho\", \"profissao\", \"ocupacao\", \"profissao_companheiro\", \"grau_instrucao_companheiro\", \"local_onde_reside\", \"inadimplente\"]]"
   ]
  },
  {
   "cell_type": "code",
   "execution_count": null,
   "metadata": {},
   "outputs": [],
   "source": [
    "df_train[\"profissao_companheiro\"].value_counts()"
   ]
  },
  {
   "cell_type": "code",
   "execution_count": null,
   "metadata": {},
   "outputs": [],
   "source": [
    "print(\"Antes:\", df_train[\"sexo\"].value_counts(), sep=\"\\n\")\r\n",
    "df_train[\"sexo\"] = df_train[\"sexo\"].replace(\" \",\"N\")\r\n",
    "print(\"Depois:\", df_train[\"sexo\"].value_counts(), sep=\"\\n\")"
   ]
  },
  {
   "cell_type": "code",
   "execution_count": null,
   "metadata": {},
   "outputs": [],
   "source": [
    "print(\"Antes:\", df_train[\"possui_telefone_residencial\"].value_counts(), sep=\"\\n\")\r\n",
    "df_train[\"possui_telefone_residencial\"] = df_train[\"possui_telefone_residencial\"].replace({\"Y\": 1, \"N\": 0})\r\n",
    "print(\"Depois:\", df_train[\"possui_telefone_residencial\"].value_counts(), sep=\"\\n\")"
   ]
  },
  {
   "cell_type": "code",
   "execution_count": null,
   "metadata": {},
   "outputs": [],
   "source": [
    "df_train[\"grau_instrucao\"].unique()"
   ]
  },
  {
   "cell_type": "code",
   "execution_count": null,
   "metadata": {},
   "outputs": [],
   "source": [
    "# df_train.to_csv(\"data/train.csv\")"
   ]
  }
 ],
 "metadata": {
  "kernelspec": {
   "display_name": "Python 3.9.5 64-bit",
   "name": "python395jvsc74a57bd05fa7bcb88a8a02560aa18023a8e77b38c69a6d20c15f0b9e64827779c46801f1"
  },
  "language_info": {
   "codemirror_mode": {
    "name": "ipython",
    "version": 3
   },
   "file_extension": ".py",
   "mimetype": "text/x-python",
   "name": "python",
   "nbconvert_exporter": "python",
   "pygments_lexer": "ipython3",
   "version": "3.9.5"
  },
  "orig_nbformat": 2
 },
 "nbformat": 4,
 "nbformat_minor": 2
}