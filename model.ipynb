{
 "cells": [
  {
   "cell_type": "markdown",
   "metadata": {},
   "source": [
    "## Importação de Bibliotecas"
   ]
  },
  {
   "cell_type": "code",
   "execution_count": null,
   "metadata": {},
   "outputs": [],
   "source": [
    "import pandas as pd\r\n",
    "import numpy as np"
   ]
  },
  {
   "cell_type": "markdown",
   "metadata": {},
   "source": [
    "## Importação dos Dados"
   ]
  },
  {
   "cell_type": "code",
   "execution_count": null,
   "metadata": {},
   "outputs": [],
   "source": [
    "df_train = pd.read_csv(\"data/train.csv\")\r\n",
    "X_train = df_train.iloc[:, :-1].values\r\n",
    "y_train = df_train.iloc[:, -1].values\r\n",
    "\r\n",
    "df_kaggle = pd.read_csv(\"data/test.csv\")\r\n",
    "X_kaggle = df_kaggle.iloc[:, :].values"
   ]
  },
  {
   "cell_type": "markdown",
   "metadata": {},
   "source": [
    "## Utilização de *Imputer* para substituir dados faltantes"
   ]
  },
  {
   "cell_type": "code",
   "execution_count": null,
   "metadata": {},
   "outputs": [],
   "source": [
    "from sklearn.impute import SimpleImputer\r\n",
    "\r\n",
    "imputer = SimpleImputer(missing_values=np.nan, strategy=\"mean\")\r\n",
    "X_train[:, 24:30] = imputer.fit_transform(X_train[:, 24:30])\r\n",
    "\r\n",
    "imputer_kaggle = SimpleImputer(missing_values=np.nan, strategy=\"mean\")\r\n",
    "X_kaggle[:, 24:30] = imputer_kaggle.fit_transform(X_kaggle[:, 24:30])"
   ]
  },
  {
   "cell_type": "markdown",
   "metadata": {},
   "source": [
    "## Utilização de *One-hot Encoder* para codificar colunas"
   ]
  },
  {
   "cell_type": "code",
   "execution_count": null,
   "metadata": {},
   "outputs": [],
   "source": [
    "from sklearn.compose import ColumnTransformer\r\n",
    "from sklearn.preprocessing import OneHotEncoder\r\n",
    "\r\n",
    "ct = ColumnTransformer(transformers=[(\"encoder\", OneHotEncoder(), [0, 1, 2])], remainder=\"passthrough\")\r\n",
    "X_train = np.array(ct.fit_transform(X_train))\r\n",
    "X_kaggle = np.array(ct.transform(X_kaggle))"
   ]
  },
  {
   "cell_type": "markdown",
   "metadata": {},
   "source": [
    "## Utilização de *Scaler* para padronizar colunas"
   ]
  },
  {
   "cell_type": "code",
   "execution_count": null,
   "metadata": {},
   "outputs": [],
   "source": [
    "from sklearn.preprocessing import StandardScaler\r\n",
    "\r\n",
    "sc = StandardScaler()\r\n",
    "X_train[:, 33:] = sc.fit_transform(X_train[:, 33:])\r\n",
    "\r\n",
    "sc_kaggle = StandardScaler()\r\n",
    "X_kaggle[:, 33:] = sc_kaggle.fit_transform(X_kaggle[:, 33:])"
   ]
  },
  {
   "cell_type": "markdown",
   "metadata": {},
   "source": [
    "## Utilização de *Gradient Boosting* com a biblioteca *CatBoost* para treinar modelo de classificação"
   ]
  },
  {
   "cell_type": "code",
   "execution_count": null,
   "metadata": {},
   "outputs": [],
   "source": [
    "from catboost import CatBoostClassifier\r\n",
    "\r\n",
    "classifier = CatBoostClassifier()\r\n",
    "classifier.fit(X_train, y_train)"
   ]
  },
  {
   "cell_type": "markdown",
   "metadata": {},
   "source": [
    "## Avaliação preliminar do modelo de classificação utilizando *cross validation score*"
   ]
  },
  {
   "cell_type": "code",
   "execution_count": null,
   "metadata": {},
   "outputs": [],
   "source": [
    "from sklearn.model_selection import cross_val_score\r\n",
    "from datetime import datetime as dt\r\n",
    "timestamp = dt.today()\r\n",
    "\r\n",
    "accuracies = cross_val_score(estimator=classifier, X=X_train, y=y_train, cv=10)\r\n",
    "print(f\"Accuracy: {accuracies.mean()}\")\r\n",
    "print(f\"StdDev: {accuracies.std()}\")\r\n",
    "try:\r\n",
    "    with open(\"data/cross_val.log\", mode=\"x+\") as cvlog:\r\n",
    "        cvlog.write(\"timestamp,accuracy,stddev\")\r\n",
    "        cvlog.write(f\"\\n{timestamp},{accuracies.mean()},{accuracies.std()}\")\r\n",
    "except:\r\n",
    "    with open(\"data/cross_val.log\", mode=\"a\") as cvlog:\r\n",
    "        cvlog.write(f\"\\n{timestamp},{accuracies.mean()},{accuracies.std()}\")"
   ]
  },
  {
   "cell_type": "markdown",
   "metadata": {},
   "source": [
    "## Predição da classificação do conjunto de teste utilizando o modelo treinado"
   ]
  },
  {
   "cell_type": "code",
   "execution_count": null,
   "metadata": {},
   "outputs": [],
   "source": [
    "y_kaggle = classifier.predict(X_kaggle)"
   ]
  },
  {
   "cell_type": "markdown",
   "metadata": {},
   "source": [
    "## Exportação do CSV para submissão no Kaggle"
   ]
  },
  {
   "cell_type": "code",
   "execution_count": null,
   "metadata": {},
   "outputs": [],
   "source": [
    "with open(f\"data/kaggle/kaggle_{timestamp.strftime('%d-%m-%Y_%Hh%M')}.csv\", mode=\"w\") as out:\r\n",
    "    out.write(\"id_solicitante,inadimplente\")\r\n",
    "    for i in range(len(y_kaggle)):\r\n",
    "        out.write(f\"\\n{20001+i},{y_kaggle[i]}\")"
   ]
  }
 ],
 "metadata": {
  "interpreter": {
   "hash": "5fa7bcb88a8a02560aa18023a8e77b38c69a6d20c15f0b9e64827779c46801f1"
  },
  "kernelspec": {
   "display_name": "Python 3.9.5 64-bit",
   "name": "python3"
  },
  "language_info": {
   "name": "python",
   "version": ""
  },
  "orig_nbformat": 2
 },
 "nbformat": 4,
 "nbformat_minor": 2
}